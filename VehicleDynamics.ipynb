{
 "cells": [
  {
   "cell_type": "markdown",
   "id": "4a3e9a7e",
   "metadata": {},
   "source": [
    "# Vehicle Dynamics - Electric Vehicle Design (Gowtham.S)"
   ]
  },
  {
   "cell_type": "markdown",
   "id": "dd89a283",
   "metadata": {},
   "source": [
    "<font color = red>\n",
    "This presentation is an excerpt from the lectures delivered by <b>Prof. Ashok Juhnjuhnwala, IIT Madras</b><br><br>\n",
    "</font>\n",
    "\n",
    "Key takeaways from the document would be as follows:\n",
    "<ol>    \n",
    "<li>Recap of forces acting on a vehicle and deciding on power and torque requirements for electric motor</li>\n",
    "<li>Drive cycles - Indian Driving Cycle for 2 and 3 Wheelers</li>\n",
    "<li>Energy consumption calculations</li>\n",
    "</ol>\n",
    "\n",
    "The notebook enables the readers to decide on power and torque requirements for the motor to propel a given vehicle. Also it enables to decide on the capacity of the battery pack required by calculating the energy consumption for the given vehicle.\n"
   ]
  },
  {
   "cell_type": "markdown",
   "id": "d96a5619",
   "metadata": {},
   "source": [
    "### How much power is required to drive a vehicle ?"
   ]
  },
  {
   "cell_type": "markdown",
   "id": "dacb65d9",
   "metadata": {},
   "source": [
    "Vehicle needs <b>Traction Power</b> to move and accelerate. Computing the required traction power involves following steps\n",
    "\n",
    "<ol>\n",
    "        <li> Estimating the resistances / forces acting on a vehicle </li>\n",
    "        <li> Defining maximum speed and acceleration of the vehicle </li>        \n",
    "</ol>\n",
    "    "
   ]
  },
  {
   "cell_type": "markdown",
   "id": "f216cbe6",
   "metadata": {},
   "source": [
    "#### <u>Aerodynamic Resistance</u>"
   ]
  },
  {
   "cell_type": "code",
   "execution_count": 13,
   "id": "69900614",
   "metadata": {
    "hide_input": true,
    "scrolled": false
   },
   "outputs": [
    {
     "data": {
      "application/vnd.jupyter.widget-view+json": {
       "model_id": "96a6e8dfb5cb41eab8211a4bac1b1f79",
       "version_major": 2,
       "version_minor": 0
      },
      "text/plain": [
       "interactive(children=(BoundedFloatText(value=1.2, description='Density (ρ)', max=2.0, min=0.6, step=0.1), Boun…"
      ]
     },
     "metadata": {},
     "output_type": "display_data"
    },
    {
     "data": {
      "text/plain": [
       "<function __main__.AirResist(AirDensity, FrontalArea, DragCoefficient, Velocity)>"
      ]
     },
     "execution_count": 13,
     "metadata": {},
     "output_type": "execute_result"
    }
   ],
   "source": [
    "import ipywidgets as widgets\n",
    "from ipywidgets import Box,Layout\n",
    "from ipywidgets import interactive\n",
    "from ipywidgets import interactive_output,HBox,VBox\n",
    "import matplotlib.pyplot as plt\n",
    "import numpy as np\n",
    "import math\n",
    "\n",
    "style = {'description_width': 'initial'}\n",
    "\n",
    "Velocity = widgets.FloatSlider(value=30,min=10,max=200,step=1,description=\"Velocity (V)\",layout = Layout(width=\"39%\"))\n",
    "DragCoefficient = widgets.BoundedFloatText (value=0.9,min=0.1,max=1.5,step=0.1,description=\"Drag (Cd)\")\n",
    "FrontalArea = widgets.BoundedFloatText (value=0.6,min=0.6,max=2,step=0.1,description=\"Area (A)\")\n",
    "AirDensity = widgets.BoundedFloatText (value=1.2,min=0.6,max=2,step=0.1,description=\"Density (\\u03C1)\")\n",
    "\n",
    "def AirResist(AirDensity,FrontalArea,DragCoefficient,Velocity):\n",
    "    print(\"\\033[1m\"+\"Air Resistance (N): \"+'\\033[0m',round(0.5 * AirDensity * FrontalArea * DragCoefficient * (Velocity/3.6)**2,3))\n",
    "\n",
    "widgets.interact(AirResist,AirDensity = AirDensity,FrontalArea = FrontalArea,DragCoefficient = DragCoefficient,Velocity = Velocity)"
   ]
  },
  {
   "cell_type": "markdown",
   "id": "283cf257",
   "metadata": {},
   "source": [
    "#### <u>Rolling Resistance</u>"
   ]
  },
  {
   "cell_type": "markdown",
   "id": "744655ed",
   "metadata": {},
   "source": [
    "\n",
    "Rolling resistance co-efficient depends on the following factors\n",
    "<ol>\n",
    "    <li>Tyre material</li>\n",
    "    <li>Tyre Structure</li>\n",
    "    <li>Tyre Temperature</li>\n",
    "    <li>Tyre Inflation Pressure</li>\n",
    "    <li>Tread Geometry</li>\n",
    "    <li>Road Roughness</li>\n",
    "    <li>Presence of liquid / ice on roads</li>\n",
    "</ol>\n",
    "    At vehicle speeds less than 120 kmph, the rolling resistance co-efficient is also a function of velocity.<br>\n",
    "<center><b>μ = μ<sub>o</sub> * (1 + V / 160)</b></center>\n"
   ]
  },
  {
   "cell_type": "code",
   "execution_count": 14,
   "id": "50b28a4b",
   "metadata": {
    "scrolled": true
   },
   "outputs": [
    {
     "data": {
      "application/vnd.jupyter.widget-view+json": {
       "model_id": "01b739c5e57f4fa0b9a5c55aefc8e396",
       "version_major": 2,
       "version_minor": 0
      },
      "text/plain": [
       "interactive(children=(BoundedFloatText(value=0.015, description='Friction Coefficient (μ)', max=1.0, step=0.00…"
      ]
     },
     "metadata": {},
     "output_type": "display_data"
    },
    {
     "data": {
      "text/plain": [
       "<function __main__.RollingResist(FrictionCoefficient, GVW, Gradient, Velocity)>"
      ]
     },
     "execution_count": 14,
     "metadata": {},
     "output_type": "execute_result"
    }
   ],
   "source": [
    "GVW = widgets.FloatSlider(value=200,min=10,max=4000,step=1,description=\"GVW (Kg)\",layout = Layout(width=\"39%\"))\n",
    "Gradient = widgets.FloatSlider(value=5,min=0,max=90,step=0.5,description=\"Gradient (\\u03B8)\",layout = Layout(width=\"39%\"),style=style)\n",
    "FrictionCoefficient = widgets.BoundedFloatText (value=0.015,min=0,max=1,step=0.001,description=\"Friction Coefficient (\\u03BC)\",style=style)\n",
    "\n",
    "def RollingResist(FrictionCoefficient,GVW,Gradient,Velocity):\n",
    "    FrictionCoeffmitVelocity = FrictionCoefficient*(1+(Velocity/160))\n",
    "    print(\"\\033[1m\"+\"Rolling Resistance (N): \"+'\\033[0m',round(GVW * 9.81 * FrictionCoefficient * math.cos(Gradient * math.pi/180),3))\n",
    "    print(\"\\033[1m\"+\"Dynamic Rolling Resistance (N): \"+'\\033[0m',round(GVW * 9.81 * FrictionCoeffmitVelocity * math.cos(Gradient * math.pi/180),3))\n",
    "\n",
    "widgets.interact(RollingResist,FrictionCoefficient = FrictionCoefficient,GVW = GVW,Gradient = Gradient,Velocity = Velocity)"
   ]
  },
  {
   "cell_type": "code",
   "execution_count": 15,
   "id": "a418d504",
   "metadata": {},
   "outputs": [
    {
     "data": {
      "application/vnd.jupyter.widget-view+json": {
       "model_id": "678f1e0a968f4af98312f50308444e54",
       "version_major": 2,
       "version_minor": 0
      },
      "text/plain": [
       "BoundedFloatText(value=0.015, description='Friction Coefficient (μ)', max=1.0, step=0.001, style=DescriptionSt…"
      ]
     },
     "metadata": {},
     "output_type": "display_data"
    },
    {
     "data": {
      "application/vnd.jupyter.widget-view+json": {
       "model_id": "40d938ffdb5a4bb599b252e62c333ff0",
       "version_major": 2,
       "version_minor": 0
      },
      "text/plain": [
       "Output()"
      ]
     },
     "metadata": {},
     "output_type": "display_data"
    }
   ],
   "source": [
    "def InteractRollingResistCoeff(Mu,Mass,Gradient):\n",
    "    plt.rcParams['figure.figsize'] = [12,9]\n",
    "    z = np.linspace(Velocity.min,120,100)\n",
    "    DynamicRollingResist = Mu * (1 + z/160)\n",
    "    RollingResist_withMu = Mass * 9.81 * DynamicRollingResist * math.cos(Gradient*math.pi/180)\n",
    "    plt.subplot(2,3,1)\n",
    "    plt.plot(z,DynamicRollingResist)\n",
    "    plt.xlabel(\"Velocity (km/hr)\")\n",
    "    plt.ylabel(\"Rolling Friction Co-efficient\")\n",
    "    plt.subplot(2,3,3)\n",
    "    plt.plot(z,RollingResist_withMu)\n",
    "    plt.xlabel(\"Velocity (km/hr)\")\n",
    "    plt.ylabel(\"Dynamic Rolling Resistance\")\n",
    "    plt.show()\n",
    "    \n",
    "Graph1 = interactive_output(InteractRollingResistCoeff,{\"Mu\":FrictionCoefficient,\"Mass\":GVW,\"Gradient\":Gradient})\n",
    "display(FrictionCoefficient,Graph1)"
   ]
  },
  {
   "cell_type": "markdown",
   "id": "50bb96a8",
   "metadata": {},
   "source": [
    "#### <u> Gradient Resistance </u>"
   ]
  },
  {
   "cell_type": "markdown",
   "id": "1f9b9755",
   "metadata": {},
   "source": [
    "Generally gradient is restricted to 12&deg."
   ]
  },
  {
   "cell_type": "code",
   "execution_count": 16,
   "id": "0ee4654a",
   "metadata": {},
   "outputs": [
    {
     "data": {
      "application/vnd.jupyter.widget-view+json": {
       "model_id": "e046d294fc3e485ba2f9a570273822c0",
       "version_major": 2,
       "version_minor": 0
      },
      "text/plain": [
       "interactive(children=(FloatSlider(value=200.0, description='GVW (Kg)', layout=Layout(width='39%'), max=4000.0,…"
      ]
     },
     "metadata": {},
     "output_type": "display_data"
    },
    {
     "data": {
      "text/plain": [
       "<function __main__.GradientResist(GVW, Gradient)>"
      ]
     },
     "execution_count": 16,
     "metadata": {},
     "output_type": "execute_result"
    }
   ],
   "source": [
    "def GradientResist (GVW,Gradient):\n",
    "    GradientResist = round(GVW * 9.81 * math.sin(Gradient * math.pi/180),3)\n",
    "    print(\"\\033[1m\"+\"Gradient Resistance (N): \"+'\\033[0m',GradientResist)\n",
    "\n",
    "widgets.interact(GradientResist,GVW = GVW, Gradient = Gradient)"
   ]
  },
  {
   "cell_type": "markdown",
   "id": "c356fbae",
   "metadata": {},
   "source": [
    "#### <u>Power required for acceleration Acceleration (Pick-up)</u>"
   ]
  },
  {
   "cell_type": "markdown",
   "id": "78add9cf",
   "metadata": {},
   "source": [
    "The force required to accelerate the vehicle from 0 to final velocity (V<sub>f</sub>) assuming uniform linear acceleration is given by the relationship\n",
    "    <center> <b>F<sub>a</sub> = GVW * V<sub>f</sub> / Time to reach final velocity</b> </center><br>\n",
    "    The work spent in accelerating the vehicle is given by the relationship\n",
    "    <center> <b>W = F<sub>a</sub> * Displacement of the vehicle position </b> </center><br>\n",
    "    where,<br>\n",
    "    <center> <b>Change in vehicle position due to acceleration = 0.5 * a * T<sup>2</sup></b></center><br>\n",
    "    <center> <b> Average acceleration power (P<sub>avg</sub>) = W / T </b> </center>  <br>\n",
    "    <center> <b>P<sub>avg</sub> =  0.5 * GVW * V<sub>f</sub> <sup>2</sup> / T </b> </center><br>\n",
    "    <center> <b> Peak Power Required = 2 * P<sub>avg</sub> </b></center>\n"
   ]
  },
  {
   "cell_type": "code",
   "execution_count": 17,
   "id": "3c33aa0c",
   "metadata": {
    "scrolled": true
   },
   "outputs": [
    {
     "data": {
      "application/vnd.jupyter.widget-view+json": {
       "model_id": "821fbc130ff24d85aa4b6792695b4b52",
       "version_major": 2,
       "version_minor": 0
      },
      "text/plain": [
       "interactive(children=(FloatSlider(value=200.0, description='GVW (Kg)', layout=Layout(width='39%'), max=4000.0,…"
      ]
     },
     "metadata": {},
     "output_type": "display_data"
    },
    {
     "data": {
      "text/plain": [
       "<function __main__.InteracAccelerationPower(GVW, Velocity, Time, WheelRadius)>"
      ]
     },
     "execution_count": 17,
     "metadata": {},
     "output_type": "execute_result"
    }
   ],
   "source": [
    "style = {'description_width': 'initial'}\n",
    "Time = widgets.FloatSlider(value=20,min=2,max=60,step=1,description=\"Time (s)\",layout = Layout(width=\"39%\"))\n",
    "WheelRadius = widgets.FloatSlider(value=0.28,min=0.01,max=0.5,step=0.01,description=\"Wheel Radius (m)\",style=style,layout = Layout(width=\"39%\"))\n",
    "def InteracAccelerationPower(GVW,Velocity,Time,WheelRadius):\n",
    "    AccelerationForce = round(GVW * ((Velocity/3.6) / Time),3)\n",
    "    RequiredTorque = round(AccelerationForce * WheelRadius)\n",
    "    AveragePower = round(0.5 * GVW * ((Velocity/3.6)**2 / Time/1000),3)\n",
    "    PeakPower = round(2*AveragePower,3)\n",
    "    print(\"\\033[1m\"+\"Acceleration Force (N): \"+'\\033[0m',AccelerationForce)\n",
    "    print(\"\\033[1m\"+\"Required Torque (Nm): \"+'\\033[0m',RequiredTorque)\n",
    "    print(\"\\033[1m\"+\"Average Power (kW): \"+'\\033[0m',AveragePower)\n",
    "    print(\"\\033[1m\"+\"Peak Power (kW): \"+'\\033[0m',PeakPower)\n",
    "\n",
    "widgets.interact(InteracAccelerationPower,GVW=GVW,Velocity = Velocity, Time = Time,WheelRadius = WheelRadius)"
   ]
  },
  {
   "cell_type": "code",
   "execution_count": 18,
   "id": "9c3f7439",
   "metadata": {
    "scrolled": false
   },
   "outputs": [
    {
     "data": {
      "application/vnd.jupyter.widget-view+json": {
       "model_id": "830f8b7af6ff4d898656023ec0ed0f13",
       "version_major": 2,
       "version_minor": 0
      },
      "text/plain": [
       "FloatSlider(value=200.0, description='GVW (Kg)', layout=Layout(width='39%'), max=4000.0, min=10.0, step=1.0)"
      ]
     },
     "metadata": {},
     "output_type": "display_data"
    },
    {
     "data": {
      "application/vnd.jupyter.widget-view+json": {
       "model_id": "85693988fc024ae68bdf6cb9fe3c93f2",
       "version_major": 2,
       "version_minor": 0
      },
      "text/plain": [
       "FloatSlider(value=20.0, description='Time (s)', layout=Layout(width='39%'), max=60.0, min=2.0, step=1.0)"
      ]
     },
     "metadata": {},
     "output_type": "display_data"
    },
    {
     "data": {
      "application/vnd.jupyter.widget-view+json": {
       "model_id": "ef7ae1906e9b497e86f52f5da8c26a6c",
       "version_major": 2,
       "version_minor": 0
      },
      "text/plain": [
       "Output()"
      ]
     },
     "metadata": {},
     "output_type": "display_data"
    }
   ],
   "source": [
    "def InteractAccelForce(GVW,Time,WheelRadius):\n",
    "    plt.rcParams['figure.figsize'] = [12,9]\n",
    "    a = np.linspace(Velocity.min,Velocity.max,100)\n",
    "    AccelerationForce = GVW * ((a/3.6) / Time)\n",
    "    RequiredTorque = AccelerationForce * WheelRadius\n",
    "    AveragePower = 0.5 * GVW * ((a/3.6)**2 / Time/1000)\n",
    "    PeakPower = 2*AveragePower\n",
    "    plt.subplot(2,3,1)\n",
    "    plt.plot(a,AccelerationForce)\n",
    "    plt.xlabel(\"Velocity (km/hr)\")\n",
    "    plt.ylabel(\"Acceleration Force (N)\")\n",
    "    plt.subplot(2,3,3)\n",
    "    plt.plot(a,AveragePower)\n",
    "    plt.xlabel(\"Velocity (km/hr)\")\n",
    "    plt.ylabel(\"Average Power (W)\")\n",
    "    plt.show()\n",
    "    \n",
    "Graph2 = interactive_output(InteractAccelForce,{\"GVW\":GVW,\"Time\":Time,\"WheelRadius\":WheelRadius})\n",
    "display(GVW,Time,Graph2)"
   ]
  },
  {
   "cell_type": "markdown",
   "id": "b1eddd88",
   "metadata": {},
   "source": [
    "Deciding on the intended acceleration levels is crucial for selection of the motor. Let us consider the top speed of the vehicle is around 150 kmph. In case if we must reach the speed within 20 seconds, the required average power will be approximately equal to 347 W, but if we have to reach the speed twice as fast we need around 694 W. This is known as doubling of power as a result of linear acceleration.<br>\n",
    "    \n",
    "In order to mitigate this behavior, we tend to have a high level of acceleration in the beginning of the drive and decrease it once the vehicle is in a state of motion. Let us look at the visualization given below:\n"
   ]
  },
  {
   "cell_type": "markdown",
   "id": "46b02607",
   "metadata": {},
   "source": [
    "#### Note\n",
    "<ol>\n",
    "<li>For a given vehicle, the gradient resistance component is high compared to the aerodynamic drag and rolling resistance.</li>\n",
    "<li>The aerodynamic resistance component equals to the gradient resistance only when the vehicle speed is greater than 100 kmph.</li>\n",
    "<li> Therefore, as a rule of thumb we can infer that at low speeds rolling resistance and air resistance would be negligible compared to the Gradient resistance</li>\n",
    "</ol>"
   ]
  },
  {
   "cell_type": "markdown",
   "id": "47e5adc8",
   "metadata": {},
   "source": [
    "---"
   ]
  },
  {
   "cell_type": "markdown",
   "id": "7d564e8d",
   "metadata": {},
   "source": [
    "The required force to move the given vehicle is called <b>Tractive Force</b> and it the sum of rolling, gradient and aerodynamic resistance. This force would be the minimum force required to maintain the state of motion of the vehicle. If further acceleration is required, then another component called Acceleration force comes into the picture.<br>\n",
    "    \n",
    "The traction force varies as the square of the velocity whereas the required traction power varies as the cube of its velocity.\n",
    "    <center><b> Traction Power = Traction Force * Velocity </b></center>\n"
   ]
  },
  {
   "cell_type": "code",
   "execution_count": 19,
   "id": "ef6be05c",
   "metadata": {
    "scrolled": false
   },
   "outputs": [
    {
     "data": {
      "application/vnd.jupyter.widget-view+json": {
       "model_id": "1d8b36f4c26542d3b943d91c7f77f6a9",
       "version_major": 2,
       "version_minor": 0
      },
      "text/plain": [
       "interactive(children=(FloatSlider(value=200.0, description='GVW (Kg)', layout=Layout(width='39%'), max=4000.0,…"
      ]
     },
     "metadata": {},
     "output_type": "display_data"
    },
    {
     "data": {
      "text/plain": [
       "<function __main__.TractiveForce(GVW, Gradient, Velocity, FrictionCoefficient, AirDensity, FrontalArea, DragCoefficient)>"
      ]
     },
     "execution_count": 19,
     "metadata": {},
     "output_type": "execute_result"
    }
   ],
   "source": [
    "def TractiveForce (GVW,Gradient,Velocity,FrictionCoefficient,AirDensity,FrontalArea,DragCoefficient):\n",
    "    TractiveForce = round(round(GVW * 9.81 * math.sin(Gradient * math.pi/180),3) + round(GVW * 9.81 * FrictionCoefficient * math.cos(Gradient * math.pi/180),3) + round(0.5 * AirDensity * FrontalArea * DragCoefficient * (Velocity/3.6)**2,3))\n",
    "    TractionPower = round(TractiveForce * Velocity/3.6)\n",
    "    print(\"\\033[1m\"+\"Tractive Force (N): \"+'\\033[0m',TractiveForce)\n",
    "    print(\"\\033[1m\"+\"Traction Power (W): \"+'\\033[0m',TractionPower)\n",
    "\n",
    "widgets.interact(TractiveForce,GVW=GVW,Gradient=Gradient,Velocity=Velocity,FrictionCoefficient=FrictionCoefficient,AirDensity=AirDensity,FrontalArea=FrontalArea,DragCoefficient=DragCoefficient)"
   ]
  },
  {
   "cell_type": "code",
   "execution_count": 20,
   "id": "62533e98",
   "metadata": {
    "scrolled": false
   },
   "outputs": [
    {
     "data": {
      "application/vnd.jupyter.widget-view+json": {
       "model_id": "8b8bf2890f1340e7ba630469df69f3e0",
       "version_major": 2,
       "version_minor": 0
      },
      "text/plain": [
       "VBox(children=(HBox(children=(BoundedFloatText(value=0.015, description='Friction Coefficient (μ)', max=1.0, s…"
      ]
     },
     "metadata": {},
     "output_type": "display_data"
    },
    {
     "data": {
      "application/vnd.jupyter.widget-view+json": {
       "model_id": "73ce396e7d7f4653adec0b781b686fb1",
       "version_major": 2,
       "version_minor": 0
      },
      "text/plain": [
       "Output()"
      ]
     },
     "metadata": {},
     "output_type": "display_data"
    }
   ],
   "source": [
    "def InteracTractForce (GVW,Gradient,FrictionCoefficient,AirDensity,FrontalArea,DragCoefficient):\n",
    "    plt.rcParams['figure.figsize'] = [12,9]\n",
    "    x = np.linspace(Velocity.min,Velocity.max,100)\n",
    "    TractiveForce = (GVW * 9.81 * math.sin(Gradient * math.pi/180)) + (GVW * 9.81 * FrictionCoefficient * math.cos(Gradient * math.pi/180)) + (0.5 * AirDensity * FrontalArea * DragCoefficient * (x/3.6)**2)\n",
    "    TractionPower = TractiveForce * (x/3.6) / 1000\n",
    "    plt.subplot(2,3,1)\n",
    "    plt.plot(x,TractiveForce)\n",
    "    plt.xlabel(\"Velocity (km/hr)\")\n",
    "    plt.ylabel(\"Tractive Force (N)\")\n",
    "    plt.subplot(2,3,3)\n",
    "    plt.xlabel(\"Velocity (km/hr)\")\n",
    "    plt.ylabel(\"Traction Power (kW)\")\n",
    "    plt.plot(x,TractionPower)\n",
    "    plt.show()\n",
    "    \n",
    "interactive_plot2=interactive_output(InteracTractForce,{\"GVW\":GVW,\"Gradient\":Gradient,\"FrictionCoefficient\":FrictionCoefficient,\"AirDensity\":AirDensity,\"FrontalArea\":FrontalArea,\"DragCoefficient\":DragCoefficient})\n",
    "vbox1 = HBox([GVW])\n",
    "vbox3 = HBox([Gradient])\n",
    "vbox2 = HBox([FrictionCoefficient, AirDensity,FrontalArea,DragCoefficient])\n",
    "vbox = VBox([vbox2,vbox3,vbox1])\n",
    "display(vbox)\n",
    "display(interactive_plot2)"
   ]
  },
  {
   "cell_type": "markdown",
   "id": "040be370",
   "metadata": {},
   "source": [
    "#### <u> Putting it all together </u>"
   ]
  },
  {
   "cell_type": "markdown",
   "id": "e5a0d67f",
   "metadata": {},
   "source": [
    " <ol>\n",
    "    <li>The aerodynamic resistance or drag is not a function of mass of the vehicle and therefore the trend looks the same in case of 2 / 3 / 4 wheelers</li>\n",
    "    <li>The gradient resistance dominates more than rolling resistance and drag at lower speeds. Only at higher speeds, the dominance fades off.</li>\n",
    "    <li>The force required for accelerating the vehicle is less when the intended final velocity after the time T is low.</li>\n",
    "        <li> If a vehicle continues to move with a uniform velocity on a flat road, the requirement for power to overcome gradient and accerlerate dies off. However power required to overcome rolling resistance and air resistance is required always. </li>\n",
    "        <li>The power required for overcoming rolling and gradient resistance is slightly under 1kW for the given vehicle for speeds upto 90 kmph. However the power to accelerate and overcome air resistance grows rapidly upto 5kW</li>\n",
    "        <li> The power to overcome gradient and accelerate are not needed together. Climbing is usually done at lower speeds and therefore this can help us to better decide on the power rating of the motor instead of simply summing up the components.\n",
    "        <li> Power requirement is low at lower velocities but the torque requirement cannot be considered as a function of velocity because the torque required to overcome gradient resistance is very high even at lower speeds.\n",
    "    </ol>\n",
    "    \n",
    "    "
   ]
  },
  {
   "cell_type": "code",
   "execution_count": 21,
   "id": "fc8eb803",
   "metadata": {
    "scrolled": false
   },
   "outputs": [
    {
     "data": {
      "application/vnd.jupyter.widget-view+json": {
       "model_id": "afbbad0c8d414df29edeae17494cfe50",
       "version_major": 2,
       "version_minor": 0
      },
      "text/plain": [
       "Output()"
      ]
     },
     "metadata": {},
     "output_type": "display_data"
    }
   ],
   "source": [
    "def Consolidate(GVW,Gradient,FrictionCoefficient,AirDensity,FrontalArea,DragCoefficient,Time,WheelRadius):\n",
    "    v= np.linspace(0,70,70)\n",
    "    x=np.ones(70)\n",
    "    GradResist = (GVW * 9.81 * math.sin(Gradient * math.pi/180)) * x\n",
    "    RollResist = (GVW * 9.81 * FrictionCoefficient * math.cos(Gradient * math.pi/180)) * x\n",
    "    AerodynamicDrag  = (0.5 * AirDensity * FrontalArea * DragCoefficient * (v/3.6)**2)\n",
    "    AccForce = GVW * ((v/3.6) / Time)\n",
    "    GradPow = (GradResist * v / (3 * 3.6)) / 1000\n",
    "    RollPow = RollResist * (v / 3.6) / 1000\n",
    "    AirPow = AerodynamicDrag * (v/3.6) / 1000\n",
    "    AccPow = 0.5 * GVW * ((v/3.6)**2 / Time/1000)\n",
    "    GradTorq = GradResist * WheelRadius\n",
    "    RollTorq = RollResist * WheelRadius\n",
    "    AirTorq = AerodynamicDrag * WheelRadius\n",
    "    AccTorq = AccForce * WheelRadius\n",
    "    plt.rcParams['figure.figsize'] = [25,20]\n",
    "    plt.subplot(2,3,1)\n",
    "    plt.plot(v,GradResist,label=\"Gradient Resistance\")\n",
    "    plt.plot(v,RollResist,label=\"Rolling Resistance\")\n",
    "    plt.plot(v,AerodynamicDrag,label=\"Air Resistance\")   \n",
    "    plt.plot(v,AccForce,label=\"Acceleration Force\")   \n",
    "    plt.xlabel(\"Velocity (km/hr)\")\n",
    "    plt.ylabel(\"Force Required (N)\")\n",
    "    plt.legend(loc = \"upper left\")\n",
    "    plt.subplot(2,3,2)\n",
    "    plt.plot(v,GradPow,label=\"Power for Gradient Resistance\")\n",
    "    plt.plot(v,RollPow,label=\"Power for Rolling Resistance\")\n",
    "    plt.plot(v,AirPow,label=\"Power for Air Resistance\")   \n",
    "    plt.plot(v,AccPow,label=\"Power for Acceleration\")       \n",
    "    plt.xlabel(\"Velocity (km/hr)\")\n",
    "    plt.ylabel(\"Power Required (W)\")\n",
    "    plt.legend(loc = \"upper left\")\n",
    "    plt.subplot(2,3,3)\n",
    "    plt.plot(v,GradTorq,label=\"Torque for Gradient Resistance\")\n",
    "    plt.plot(v,RollTorq,label=\"Torque for Rolling Resistance\")\n",
    "    plt.plot(v,AirTorq,label=\"Torque for Gradient Resistance\")\n",
    "    plt.plot(v,AccTorq,label=\"Torque for Acceleration\")\n",
    "    plt.xlabel(\"Velocity (km/hr)\")\n",
    "    plt.ylabel(\"Torque Required (N-m)\")\n",
    "    plt.legend(loc = \"upper left\")\n",
    "    plt.show()\n",
    "    \n",
    "Graph4 = interactive_output(Consolidate,{\"GVW\":GVW,\"Gradient\":Gradient,\"FrictionCoefficient\":FrictionCoefficient,\"AirDensity\":AirDensity,\"FrontalArea\":FrontalArea,\"DragCoefficient\":DragCoefficient,\"Time\":Time,\"WheelRadius\":WheelRadius})\n",
    "display(Graph4)"
   ]
  },
  {
   "cell_type": "markdown",
   "id": "7d23f6f1",
   "metadata": {},
   "source": [
    "### <u> Concept of Drivetrain </u>"
   ]
  },
  {
   "cell_type": "markdown",
   "id": "a2f74592",
   "metadata": {},
   "source": [
    "A drivetrain is required to deliver the required power and torque to overcome air, gradient and rolling resistance and also to provide right pick-up (acceleration).<br> <br>\n",
    "    Once the required power for each component is known, we could calculate the average power and peak power. This should be the power rating of the motor and for deciding on the torque rating, the forces computed above must be multiplied with the tire radius and then must be decided. The next challenge will be to design the heat dissipation for the motor. Generally the heat dissipation will be designed for the average power or rated power. <br> <br>\n",
    "    In order to facilitate comparison between different vehicles on the grounds of energy consumption, driving cycles are used. A typical Indian Driving Cycle is shown below:\n"
   ]
  },
  {
   "cell_type": "code",
   "execution_count": 22,
   "id": "a845f3e7",
   "metadata": {},
   "outputs": [
    {
     "name": "stdout",
     "output_type": "stream",
     "text": [
      "\u001b[1mDistance Covered (m) : \u001b[0m 658\n"
     ]
    },
    {
     "data": {
      "image/png": "[encoded data removed]",
      "text/plain": [
       "<Figure size 4320x720 with 1 Axes>"
      ]
     },
     "metadata": {
      "needs_background": "light"
     },
     "output_type": "display_data"
    }
   ],
   "source": [
    "t = np.arange(0,108,1)\n",
    "V1 = np.zeros(16)\n",
    "V2 = np.array([2,5,7,9,12,14])\n",
    "V3 = np.array([16,18,20,22])\n",
    "V4 = np.array([20,18,15,13])\n",
    "V5 = np.array([13,13])\n",
    "V6 = np.array([15,17,19,21,23])\n",
    "V7 = np.array([25,26,28,29,31])\n",
    "V8 = np.array([29,27,25])\n",
    "V9 = np.array([25,25,25,25])\n",
    "V10 = np.array([23,21])\n",
    "V11 = np.array([23,24,26,27,29,31,32,34])\n",
    "V12 = np.array([35,36,37,39,40,41,42])\n",
    "V13 = np.array([40,39,37])\n",
    "V14 = np.array([37,37,37,37,37,37,37])\n",
    "V15 = np.array([35,34])\n",
    "V16 = np.array([35,36,37,39,40,41,42])\n",
    "V17 = np.array([40,39,37,35,34,32,30,29,27])\n",
    "V18 = np.array([25,23,22,20,18,16,14])\n",
    "V19 = np.array([12,10,8,6,4,2,0])\n",
    "V = np.concatenate((V1,V2,V3,V4,V5,V6,V7,V8,V9,V10,V11,V12,V13,V14,V15,V16,V17,V18,V19), axis=None)\n",
    "dt=np.diff(t)\n",
    "dt = np.hstack([0,dt])\n",
    "dv=np.diff(V)\n",
    "dv=np.hstack([0,dv])\n",
    "s = (V/3.6) * dt\n",
    "a = np.divide((dv/3.6),dt,out=np.zeros_like((dv/3.6)), where=dt!=0)\n",
    "plt.rcParams['figure.figsize'] = [60,10]\n",
    "plt.subplot(2,3,1)\n",
    "fig1 = plt.plot(t,V,label = \"Velocity (km/hr)\")\n",
    "plt.xlabel(\"Time (s)\")\n",
    "fig2 = plt.plot(t,s,label = \"Distance Covered (m)\")\n",
    "plt.xlabel(\"Time (s)\")\n",
    "plt.grid()\n",
    "plt.legend(loc = \"upper left\")\n",
    "Dist = np.sum(s)\n",
    "print(\"\\033[1m\"+\"Distance Covered (m) : \"+'\\033[0m',round(Dist))"
   ]
  },
  {
   "cell_type": "code",
   "execution_count": 24,
   "id": "ca816105",
   "metadata": {
    "scrolled": false
   },
   "outputs": [
    {
     "data": {
      "application/vnd.jupyter.widget-view+json": {
       "model_id": "d01bf8582e42440880cff22363497221",
       "version_major": 2,
       "version_minor": 0
      },
      "text/plain": [
       "Output()"
      ]
     },
     "metadata": {},
     "output_type": "display_data"
    },
    {
     "data": {
      "application/vnd.jupyter.widget-view+json": {
       "model_id": "0c865b956530423aa33103c0b7d9bc23",
       "version_major": 2,
       "version_minor": 0
      },
      "text/plain": [
       "HBox(children=(FloatSlider(value=200.0, description='GVW (Kg)', layout=Layout(width='39%'), max=4000.0, min=10…"
      ]
     },
     "metadata": {},
     "output_type": "display_data"
    }
   ],
   "source": [
    "R = widgets.FloatSlider(value=0.5,min=0,max=1,step=0.1,description=\"Regen Efficiency (s)\",style=style)\n",
    "\n",
    "def Graphy(GVW,Gradient,FrictionCoefficient,AirDensity,FrontalArea,DragCoefficient,Time,WheelRadius,R):\n",
    "    x = np.ones(108)\n",
    "    a = np.divide((dv/3.6),dt,out=np.zeros_like((dv/3.6)), where=dt!=0)\n",
    "    Fa= GVW * a\n",
    "    Fr = (GVW * 9.81 * (FrictionCoefficient * (1+(V/160))) * math.cos(Gradient * math.pi/180)) * x\n",
    "    Fd = (0.5 * AirDensity * FrontalArea * DragCoefficient * (V/3.6)**2)\n",
    "    Ftrac = Fa+Fr+Fd\n",
    "    Ptrac = Ftrac * (V/3.6)\n",
    "    Etrac = np.where(Ftrac < 0, 0, (Ftrac * (V/3.6) * (dt/3600)))\n",
    "    Eregen = np.where(Ftrac <0,Ftrac * R * (V/3.6) * (dt/3600),(Ftrac * (V/3.6) * (dt/3600)))\n",
    "    Eregen_sum = np.sum((Eregen))\n",
    "    Eperkm = Eregen_sum / (Dist/1000)\n",
    "    Etrac_sum = np.sum(Etrac)\n",
    "    Etracperkm = Etrac_sum/(Dist/1000)\n",
    "    print(\"\\033[1m\"+\"Energy Consumed with Regeneration\"+'\\033[0m')\n",
    "    print (\"\\033[1m\"+\"Energy Consumed (W-h) : \"+'\\033[0m',round(Eregen_sum,2))\n",
    "    print(\"\\033[1m\"+\"Energy Consumed per km (W-h) : \"+'\\033[0m',round(Eperkm,2))\n",
    "    print(\"---------------------------------------\")\n",
    "    print(\"\\033[1m\"+\"Energy Consumed without Regeneration\"+'\\033[0m')\n",
    "    print (\"\\033[1m\"+\"Energy Consumed (W-h) : \"+'\\033[0m',round(Etrac_sum,2))\n",
    "    print(\"\\033[1m\"+\"Energy Consumed per km (W-h) : \"+'\\033[0m',round(Etracperkm,2))    \n",
    "    \n",
    "    Torque = Ftrac * WheelRadius\n",
    "    \n",
    "    Eregen_list = Eregen.tolist()\n",
    "    Ewithoutregen_list = Etrac.tolist()\n",
    "    Eregen_Integ=[]\n",
    "    Ewithoutregen_Integ = []\n",
    "    for i in range(0,len(Eregen_list)):\n",
    "        if(i==0):\n",
    "            Eregen_Integ.append(Eregen_list[i])\n",
    "            Ewithoutregen_Integ.append(Ewithoutregen_list[i])\n",
    "        else:\n",
    "            Eregen_list[i] = Eregen_list[i]+Eregen_list[i-1]\n",
    "            Ewithoutregen_list[i] = Ewithoutregen_list[i]+Ewithoutregen_list[i-1]\n",
    "            Eregen_Integ.append(Eregen_list[i])\n",
    "            Ewithoutregen_Integ.append(Ewithoutregen_list[i])\n",
    "            \n",
    "    Eregen_Integ = np.array(Eregen_Integ,dtype = \"object\")\n",
    "    Ewithoutregen_Integ = np.array(Ewithoutregen_Integ,dtype=\"object\")\n",
    "    \n",
    "    Range = np.arange(10,1000)\n",
    "    BatCapRegen = (Range * Eperkm)/1000\n",
    "    BatCapWithoutRegen = (Range * Etracperkm)/1000\n",
    "    \n",
    "    plt.rcParams['figure.figsize'] = [16,20]\n",
    "    plt.subplot(511)\n",
    "    plt.plot(t,Fa,label = \"Acceleration Force\")\n",
    "    plt.plot(t,Fr,label = \"Rolling Resistance\")\n",
    "    plt.plot(t,Fd,label = \"Drag\")\n",
    "    plt.ylabel(\"Force (N)\")\n",
    "    plt.grid()\n",
    "    plt.legend(loc = \"lower left\")\n",
    "    plt.subplot(512)\n",
    "    plt.plot(t,Torque,label = \"Torque\")\n",
    "    plt.ylabel(\"Torque (Nm)\")\n",
    "    plt.grid()\n",
    "    plt.subplot(513)\n",
    "    plt.plot(t,Ptrac)\n",
    "    plt.ylabel(\"Power (Nm/s)\")\n",
    "    plt.grid()\n",
    "    plt.subplot(514)\n",
    "    plt.plot(t,Ewithoutregen_Integ,label = \"Energy Consumption without Regeneration\")\n",
    "    plt.plot(t,Eregen_Integ,label = \"Energy Consumption with R% Regeneration\")\n",
    "    plt.ylabel(\"Energy Consumed (Wh)\")\n",
    "    plt.xlabel(\"Time (s)\")\n",
    "    plt.legend(loc=\"upper left\")\n",
    "    plt.grid()\n",
    "    plt.subplot(515)\n",
    "    plt.plot(Range,BatCapWithoutRegen,label = \"Battery Capacity without Regeneration\")\n",
    "    plt.plot(Range,BatCapRegen,label = \"Battery Capacity with Regeneration\")\n",
    "    plt.xlabel(\"Range\")\n",
    "    plt.ylabel(\"Capacity (kWh)\")\n",
    "    plt.legend(loc=\"upper left\")\n",
    "    plt.grid()\n",
    "    plt.show()\n",
    "      \n",
    "Graph6=interactive_output(Graphy,{\"GVW\":GVW,\"Gradient\":Gradient,\"FrictionCoefficient\":FrictionCoefficient,\"AirDensity\":AirDensity,\"FrontalArea\":FrontalArea,\"DragCoefficient\":DragCoefficient,\"Time\":Time,\"WheelRadius\":WheelRadius,\"R\":R})\n",
    "hbox1 = HBox([GVW,R])\n",
    "display(Graph6,hbox1)"
   ]
  },
  {
   "cell_type": "markdown",
   "id": "e08c4ac5",
   "metadata": {},
   "source": [
    "The above illustration has not accounted for the gradient resistance because the Indian Driving Cycle for 2 Wheelers and 3 Wheelers doesn't accomodate the gradient requirements. Also from the vehicle dynamics point of view, the amount of energy consumed can be lowered by increasing the regeneration efficiency, decreasing the gross vehicle weight and installing better tires to lower the effect of rolling resistance.    \n"
   ]
  }
 ],
 "metadata": {
  "kernelspec": {
   "display_name": "Python 3 (ipykernel)",
   "language": "python",
   "name": "python3"
  },
  "language_info": {
   "codemirror_mode": {
    "name": "ipython",
    "version": 3
   },
   "file_extension": ".py",
   "mimetype": "text/x-python",
   "name": "python",
   "nbconvert_exporter": "python",
   "pygments_lexer": "ipython3",
   "version": "3.10.0"
  }
 },
 "nbformat": 4,
 "nbformat_minor": 5
}
